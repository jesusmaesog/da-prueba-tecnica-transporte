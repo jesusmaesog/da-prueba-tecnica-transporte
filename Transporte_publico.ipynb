{
 "cells": [
  {
   "cell_type": "code",
   "execution_count": 1,
   "metadata": {},
   "outputs": [],
   "source": [
    "import pandas as pd\n",
    "import numpy as np\n",
    "from io import StringIO\n",
    "import sqlite3\n",
    "import matplotlib.pyplot as plt\n",
    "import seaborn as sns"
   ]
  },
  {
   "cell_type": "code",
   "execution_count": 2,
   "metadata": {},
   "outputs": [
    {
     "name": "stdout",
     "output_type": "stream",
     "text": [
      "                        Fecha                Ruta  Numero_Pasajeros  \\\n",
      "ID_Viaje                                                              \n",
      "1         2023-01-01 00:00:00  Barcelona - Bilbao               NaN   \n",
      "2         2023-01-01 00:01:00    Malaga - Sevilla              99.0   \n",
      "3         2023-01-01 00:02:00   Madrid - Zaragoza              10.0   \n",
      "4         2023-01-01 00:03:00    Sevilla - Madrid              96.0   \n",
      "5         2023-01-01 00:04:00     Madrid - Malaga              22.0   \n",
      "\n",
      "         Duracion_Viaje_Minutos  Retraso_Minutos Tipo_Transporte     Region  \\\n",
      "ID_Viaje                                                                      \n",
      "1                 not_available              999         Tranvía    Sevilla   \n",
      "2                         192.0               58            Tren  Barcelona   \n",
      "3                          94.0              119         Autobús     Madrid   \n",
      "4                         650.0                2           Metro     Malaga   \n",
      "5                         335.0               51         Autobús    Sevilla   \n",
      "\n",
      "         Dia_Semana  \n",
      "ID_Viaje             \n",
      "1            Sunday  \n",
      "2            Sunday  \n",
      "3            Sunday  \n",
      "4            Sunday  \n",
      "5            Sunday  \n"
     ]
    }
   ],
   "source": [
    "#Importando el fichero desde el origen\n",
    "\n",
    "file_path = './data/Transporte_Publico_Espana.csv'\n",
    "\n",
    "\n",
    "df = pd.read_csv(file_path, sep=',', header=0, index_col=0)\n",
    "\n",
    "#Leyendo el encabezado del dataframe para comprobar que se ha importado correctamente\n",
    "print(df.head())\n",
    "    "
   ]
  },
  {
   "cell_type": "code",
   "execution_count": 3,
   "metadata": {},
   "outputs": [
    {
     "name": "stdout",
     "output_type": "stream",
     "text": [
      "(100100, 8)\n"
     ]
    }
   ],
   "source": [
    "print(df.shape)"
   ]
  },
  {
   "cell_type": "code",
   "execution_count": 4,
   "metadata": {},
   "outputs": [
    {
     "name": "stdout",
     "output_type": "stream",
     "text": [
      "<class 'pandas.core.frame.DataFrame'>\n",
      "Index: 100100 entries, 1 to 100\n",
      "Data columns (total 8 columns):\n",
      " #   Column                  Non-Null Count   Dtype  \n",
      "---  ------                  --------------   -----  \n",
      " 0   Fecha                   100100 non-null  object \n",
      " 1   Ruta                    100100 non-null  object \n",
      " 2   Numero_Pasajeros        99099 non-null   float64\n",
      " 3   Duracion_Viaje_Minutos  99767 non-null   object \n",
      " 4   Retraso_Minutos         100100 non-null  int64  \n",
      " 5   Tipo_Transporte         100100 non-null  object \n",
      " 6   Region                  100100 non-null  object \n",
      " 7   Dia_Semana              100100 non-null  object \n",
      "dtypes: float64(1), int64(1), object(6)\n",
      "memory usage: 6.9+ MB\n",
      "None\n"
     ]
    }
   ],
   "source": [
    "#Estructura general del dataframe y el tipo de campos que contiene\n",
    "print(df.info())\n"
   ]
  },
  {
   "cell_type": "code",
   "execution_count": 5,
   "metadata": {},
   "outputs": [
    {
     "name": "stdout",
     "output_type": "stream",
     "text": [
      "                        Fecha                Ruta  Numero_Pasajeros  \\\n",
      "ID_Viaje                                                              \n",
      "1         2023-01-01 00:00:00  Barcelona - Bilbao               NaN   \n",
      "2         2023-01-01 00:01:00    Malaga - Sevilla              99.0   \n",
      "3         2023-01-01 00:02:00   Madrid - Zaragoza              10.0   \n",
      "4         2023-01-01 00:03:00    Sevilla - Madrid              96.0   \n",
      "5         2023-01-01 00:04:00     Madrid - Malaga              22.0   \n",
      "\n",
      "         Duracion_Viaje_Minutos  Retraso_Minutos Tipo_Transporte     Region  \\\n",
      "ID_Viaje                                                                      \n",
      "1                 not_available              999         Tranvía    Sevilla   \n",
      "2                         192.0               58            Tren  Barcelona   \n",
      "3                          94.0              119         Autobús     Madrid   \n",
      "4                         650.0                2           Metro     Malaga   \n",
      "5                         335.0               51         Autobús    Sevilla   \n",
      "\n",
      "         Dia_Semana  \n",
      "ID_Viaje             \n",
      "1            Sunday  \n",
      "2            Sunday  \n",
      "3            Sunday  \n",
      "4            Sunday  \n",
      "5            Sunday  \n"
     ]
    }
   ],
   "source": [
    "#No tiene ningún sentido que haya rutas Madrid-Zaragoza pertenecientes a la región de Barcelona que duren 584 minutos en metro\n",
    "#El alcance no cubre el gobierno ni la calidad del dato así que tomaremos los datos por bueno como si fuesen datos no productivos\n",
    "print(df.head())\n"
   ]
  },
  {
   "cell_type": "code",
   "execution_count": 6,
   "metadata": {},
   "outputs": [
    {
     "name": "stdout",
     "output_type": "stream",
     "text": [
      "                        Fecha                Ruta  Numero_Pasajeros  \\\n",
      "ID_Viaje                                                              \n",
      "96        2023-01-01 01:35:00    Sevilla - Madrid              85.0   \n",
      "97        2023-01-01 01:36:00  Barcelona - Bilbao              65.0   \n",
      "98        2023-01-01 01:37:00    Malaga - Sevilla              65.0   \n",
      "99        2023-01-01 01:38:00  Madrid - Barcelona              41.0   \n",
      "100       2023-01-01 01:39:00  Madrid - Barcelona              42.0   \n",
      "\n",
      "         Duracion_Viaje_Minutos  Retraso_Minutos Tipo_Transporte     Region  \\\n",
      "ID_Viaje                                                                      \n",
      "96                        631.0               30            Tren   Valencia   \n",
      "97                        591.0               46         Autobús     Malaga   \n",
      "98                        228.0                7         Tranvía     Malaga   \n",
      "99                         24.0               27           Metro     Bilbao   \n",
      "100                       135.0               46            Tren  Barcelona   \n",
      "\n",
      "         Dia_Semana  \n",
      "ID_Viaje             \n",
      "96           Sunday  \n",
      "97           Sunday  \n",
      "98           Sunday  \n",
      "99           Sunday  \n",
      "100          Sunday  \n"
     ]
    }
   ],
   "source": [
    "#Aquí vemos que los valores de ID_Viaje no son autoincrementales al final. \n",
    "# En cualquier caso como vamos a diseñar un modelo en estrella no vamos a usar una columna de ID para la tabla de hechos\n",
    "\n",
    "print(df.tail())"
   ]
  },
  {
   "cell_type": "code",
   "execution_count": 7,
   "metadata": {},
   "outputs": [
    {
     "name": "stdout",
     "output_type": "stream",
     "text": [
      "Fecha: 100000 unique values\n",
      "Ruta: 10 unique values\n",
      "Numero_Pasajeros: 90 unique values\n",
      "Duracion_Viaje_Minutos: 706 unique values\n",
      "Retraso_Minutos: 121 unique values\n",
      "Tipo_Transporte: 4 unique values\n",
      "Region: 7 unique values\n",
      "Dia_Semana: 7 unique values\n"
     ]
    }
   ],
   "source": [
    "#Valores únicos del dataframe\n",
    "for column in df.columns:\n",
    "    print(f\"{column}: {df[column].nunique()} unique values\")"
   ]
  },
  {
   "cell_type": "code",
   "execution_count": 8,
   "metadata": {},
   "outputs": [
    {
     "data": {
      "image/png": "[encoded data removed]",
      "text/plain": [
       "<Figure size 1200x600 with 1 Axes>"
      ]
     },
     "metadata": {},
     "output_type": "display_data"
    },
    {
     "data": {
      "image/png": "[encoded data removed]",
      "text/plain": [
       "<Figure size 1200x600 with 1 Axes>"
      ]
     },
     "metadata": {},
     "output_type": "display_data"
    },
    {
     "data": {
      "image/png": "[encoded data removed]",
      "text/plain": [
       "<Figure size 1200x600 with 1 Axes>"
      ]
     },
     "metadata": {},
     "output_type": "display_data"
    }
   ],
   "source": [
    "# Convertir las columnas a numéricas (en caso de que haya datos no numéricos)\n",
    "df['Duracion_Viaje_Minutos'] = pd.to_numeric(df['Duracion_Viaje_Minutos'], errors='coerce')\n",
    "df['Retraso_Minutos'] = pd.to_numeric(df['Retraso_Minutos'], errors='coerce')\n",
    "df['Numero_Pasajeros'] = pd.to_numeric(df['Numero_Pasajeros'], errors='coerce')\n",
    "\n",
    "# Eliminamos las filas con valores nulos\n",
    "df.dropna(subset=['Numero_Pasajeros','Duracion_Viaje_Minutos', 'Retraso_Minutos'], inplace=True)\n",
    "\n",
    "# Calcular el primer y tercer cuartil y determinar los valores atípicos\n",
    "def find_outliers_iqr(data):\n",
    "    q1 = np.percentile(data, 25)\n",
    "    q3 = np.percentile(data, 75)\n",
    "    iqr = q3 - q1\n",
    "    lower_bound = q1 - 1.5 * iqr\n",
    "    upper_bound = q3 + 1.5 * iqr\n",
    "    outliers = data[(data < lower_bound) | (data > upper_bound)]\n",
    "    return outliers\n",
    "\n",
    "outliers_duracion = find_outliers_iqr(df['Duracion_Viaje_Minutos'])\n",
    "outliers_retraso = find_outliers_iqr(df['Retraso_Minutos'])\n",
    "outliers_pasajeros = find_outliers_iqr(df['Numero_Pasajeros'])\n",
    "\n",
    "# Visualizamos la distribución con un histograma y marcamos los valores atípicos. Como hemos dicho los datos no tienen sentido.\n",
    "def plot_distribution_with_outliers(data, outliers, title):\n",
    "    plt.figure(figsize=(12, 6))\n",
    "    sns.histplot(data, kde=True, color='blue', bins=30)\n",
    "    for outlier in outliers:\n",
    "        plt.axvline(outlier, color='red', linestyle='--')\n",
    "    plt.title(title)\n",
    "    plt.xlabel('Valor')\n",
    "    plt.ylabel('Frecuencia')\n",
    "    plt.show()\n",
    "\n",
    "plot_distribution_with_outliers(df['Duracion_Viaje_Minutos'], outliers_duracion, 'Distribución de Duracion_Viaje_Minutos con Valores Atípicos')\n",
    "plot_distribution_with_outliers(df['Retraso_Minutos'], outliers_retraso, 'Distribución de Retraso_Minutos con Valores Atípicos')\n",
    "plot_distribution_with_outliers(df['Numero_Pasajeros'], outliers_retraso, 'Distribución de Numero_Pasajeros con Valores Atípicos')"
   ]
  },
  {
   "cell_type": "code",
   "execution_count": 9,
   "metadata": {},
   "outputs": [
    {
     "name": "stdout",
     "output_type": "stream",
     "text": [
      "Fecha                     0\n",
      "Ruta                      0\n",
      "Numero_Pasajeros          0\n",
      "Duracion_Viaje_Minutos    0\n",
      "Retraso_Minutos           0\n",
      "Tipo_Transporte           0\n",
      "Region                    0\n",
      "Dia_Semana                0\n",
      "dtype: int64\n"
     ]
    }
   ],
   "source": [
    "#Valores nulos hay en las columnas del dataframe\n",
    "print(df.isnull().sum())"
   ]
  },
  {
   "cell_type": "code",
   "execution_count": 10,
   "metadata": {},
   "outputs": [
    {
     "name": "stdout",
     "output_type": "stream",
     "text": [
      "['Domingo' 'Lunes' 'Martes' 'Miércoles' 'Jueves' 'Viernes' 'Sábado']\n"
     ]
    }
   ],
   "source": [
    "#Ahora vamos a reemplazar los valores de Dia_Semana por su equivalencia en español. Truncamos las líneas de código para que se ejecute más rápidamente según la convención Python\n",
    "\n",
    "df['Dia_Semana'] = df['Dia_Semana'].replace('Sunday', 'Domingo').replace('Monday', 'Lunes')\\\n",
    ".replace('Tuesday', 'Martes').replace('Wednesday', 'Miércoles').replace('Thursday', 'Jueves')\\\n",
    ".replace('Friday', 'Viernes').replace('Saturday', 'Sábado')\n",
    "\n",
    "print(df['Dia_Semana'].unique())"
   ]
  },
  {
   "cell_type": "code",
   "execution_count": 11,
   "metadata": {},
   "outputs": [
    {
     "name": "stdout",
     "output_type": "stream",
     "text": [
      "       Numero_Pasajeros  Duracion_Viaje_Minutos  Retraso_Minutos\n",
      "count      98766.000000            98766.000000     98766.000000\n",
      "mean          54.460442              366.863668        59.328676\n",
      "std           25.956173              203.283482        34.688021\n",
      "min           10.000000               15.000000         0.000000\n",
      "25%           32.000000              191.000000        29.000000\n",
      "50%           54.000000              367.000000        59.000000\n",
      "75%           77.000000              543.000000        89.000000\n",
      "max           99.000000              719.000000       119.000000\n"
     ]
    }
   ],
   "source": [
    "#Analizando como quedan las columnas numéricas: media, minimo, percentil 25, mediana, percentil 75, máximo y desviación típica\n",
    "print(df.describe())"
   ]
  },
  {
   "cell_type": "code",
   "execution_count": 12,
   "metadata": {},
   "outputs": [
    {
     "name": "stdout",
     "output_type": "stream",
     "text": [
      "La correlación entre Duracion_Viaje_Minutos y Retraso_Minutos es: 0.0032777547314802973\n"
     ]
    }
   ],
   "source": [
    "# Calcular la correlación entre las dos columnas\n",
    "correlation = df['Duracion_Viaje_Minutos'].corr(df['Retraso_Minutos'])\n",
    "\n",
    "# Mostrar el resultado\n",
    "print(f\"La correlación entre Duracion_Viaje_Minutos y Retraso_Minutos es: {correlation}\")"
   ]
  },
  {
   "cell_type": "code",
   "execution_count": 13,
   "metadata": {},
   "outputs": [
    {
     "name": "stdout",
     "output_type": "stream",
     "text": [
      "\n",
      "DataFrame después de cambiar el tipo de datos\n",
      "Fecha                     object\n",
      "Ruta                      object\n",
      "Numero_Pasajeros           int32\n",
      "Duracion_Viaje_Minutos     int32\n",
      "Retraso_Minutos            int64\n",
      "Tipo_Transporte           object\n",
      "Region                    object\n",
      "Dia_Semana                object\n",
      "dtype: object\n"
     ]
    }
   ],
   "source": [
    "#Convirtiendo la columnas del dataframe al tipo de datos que necesitaremos para crear nuestra base de datos SQLite. \n",
    "# #Fecha se tiene que quedar como tipo object porque si no no podremos insertar los valores en la base de datos.\n",
    "\n",
    "df['Fecha'] = pd.to_datetime(df['Fecha']).dt.strftime('%Y-%m-%d')\n",
    "df['Ruta'] = df['Ruta'].astype(str)\n",
    "df['Numero_Pasajeros'] = df['Numero_Pasajeros'].astype(int)\n",
    "df['Duracion_Viaje_Minutos'] = df['Duracion_Viaje_Minutos'].astype(int)\n",
    "df['Tipo_Transporte'] = df['Tipo_Transporte'].astype(str)\n",
    "df['Region'] = df['Region'].astype(str)\n",
    "df['Dia_Semana'] = df['Dia_Semana'].astype(str)\n",
    "print(\"\\nDataFrame después de cambiar el tipo de datos\")\n",
    "print(df.dtypes)\n"
   ]
  },
  {
   "cell_type": "code",
   "execution_count": 14,
   "metadata": {},
   "outputs": [
    {
     "name": "stdout",
     "output_type": "stream",
     "text": [
      "             0  ID\n",
      "0   2023-01-01   1\n",
      "1   2023-01-02   2\n",
      "2   2023-01-03   3\n",
      "3   2023-01-04   4\n",
      "4   2023-01-05   5\n",
      "..         ...  ..\n",
      "65  2023-03-07  66\n",
      "66  2023-03-08  67\n",
      "67  2023-03-09  68\n",
      "68  2023-03-10  69\n",
      "69  2023-03-11  70\n",
      "\n",
      "[70 rows x 2 columns]\n"
     ]
    }
   ],
   "source": [
    "#Empezamos a crear dimensiones que nos servirán para montar nuestro modelo en estrella en PowerBi\n",
    "# Vamos a crear una dimension Dim_Calendar que añadiremos luego a la Base de datos\n",
    "\n",
    "Dim_Calendar = df['Fecha'].unique().tolist()\n",
    "Dim_Calendar = pd.DataFrame(Dim_Calendar)\n",
    "Dim_Calendar['ID'] = range(1, len(Dim_Calendar) + 1)\n",
    "\n",
    "print(Dim_Calendar)"
   ]
  },
  {
   "cell_type": "code",
   "execution_count": 15,
   "metadata": {},
   "outputs": [
    {
     "name": "stdout",
     "output_type": "stream",
     "text": [
      "                      0  ID\n",
      "0      Malaga - Sevilla   1\n",
      "1     Madrid - Zaragoza   2\n",
      "2      Sevilla - Madrid   3\n",
      "3       Madrid - Malaga   4\n",
      "4    Madrid - Barcelona   5\n",
      "5       Bilbao - Madrid   6\n",
      "6    Valencia - Sevilla   7\n",
      "7  Barcelona - Valencia   8\n",
      "8  Zaragoza - Barcelona   9\n",
      "9    Barcelona - Bilbao  10\n"
     ]
    }
   ],
   "source": [
    "#Ahora hacemos lo mismo para el resto de dimensions siguiendo con la siguiente que es 'Ruta'\n",
    "\n",
    "Dim_Ruta = df['Ruta'].unique().tolist()\n",
    "Dim_Ruta = pd.DataFrame(Dim_Ruta)\n",
    "Dim_Ruta['ID'] = range(1, len(Dim_Ruta) + 1)\n",
    "\n",
    "\n",
    "print(Dim_Ruta)"
   ]
  },
  {
   "cell_type": "code",
   "execution_count": 16,
   "metadata": {},
   "outputs": [
    {
     "name": "stdout",
     "output_type": "stream",
     "text": [
      "         0  ID\n",
      "0     Tren   1\n",
      "1  Autobús   2\n",
      "2    Metro   3\n",
      "3  Tranvía   4\n"
     ]
    }
   ],
   "source": [
    "#Seguimos con el Tipo de Transporte\n",
    "\n",
    "Dim_Tipo_Transporte = df['Tipo_Transporte'].unique().tolist()\n",
    "Dim_Tipo_Transporte = pd.DataFrame(Dim_Tipo_Transporte)\n",
    "Dim_Tipo_Transporte['ID'] = range(1, len(Dim_Tipo_Transporte) + 1)\n",
    "\n",
    "print(Dim_Tipo_Transporte)"
   ]
  },
  {
   "cell_type": "code",
   "execution_count": 17,
   "metadata": {},
   "outputs": [
    {
     "name": "stdout",
     "output_type": "stream",
     "text": [
      "           0  ID\n",
      "0  Barcelona   1\n",
      "1     Madrid   2\n",
      "2     Malaga   3\n",
      "3    Sevilla   4\n",
      "4   Valencia   5\n",
      "5   Zaragoza   6\n",
      "6     Bilbao   7\n"
     ]
    }
   ],
   "source": [
    "#Seguimos con la Región\n",
    "\n",
    "Dim_Region = df['Region'].unique().tolist()\n",
    "Dim_Region = pd.DataFrame(Dim_Region)\n",
    "Dim_Region['ID'] = range(1, len(Dim_Region) + 1)\n",
    "\n",
    "print(Dim_Region)"
   ]
  },
  {
   "cell_type": "code",
   "execution_count": 18,
   "metadata": {},
   "outputs": [
    {
     "name": "stdout",
     "output_type": "stream",
     "text": [
      "           0  ID\n",
      "0    Domingo   1\n",
      "1      Lunes   2\n",
      "2     Martes   3\n",
      "3  Miércoles   4\n",
      "4     Jueves   5\n",
      "5    Viernes   6\n",
      "6     Sábado   7\n"
     ]
    }
   ],
   "source": [
    "#Y finalizamos con Dia_Semana para tener todos los dataframes que luego insertaremos como tablas de dimensiones en nuestra base de datos.\n",
    "\n",
    "#print(df['Dia_Semana'])\n",
    "Dim_Dia_Semana = df['Dia_Semana'].unique().tolist()\n",
    "Dim_Dia_Semana = pd.DataFrame(Dim_Dia_Semana)\n",
    "Dim_Dia_Semana['ID'] = range(1, len(Dim_Dia_Semana) + 1)\n",
    "\n",
    "print(Dim_Dia_Semana)"
   ]
  },
  {
   "cell_type": "code",
   "execution_count": 19,
   "metadata": {},
   "outputs": [
    {
     "name": "stdout",
     "output_type": "stream",
     "text": [
      "DataFrame df después de mapear los valores:\n",
      "ID_Viaje\n",
      "2      1\n",
      "3      2\n",
      "4      3\n",
      "5      4\n",
      "6      1\n",
      "      ..\n",
      "96     5\n",
      "97     3\n",
      "98     3\n",
      "99     7\n",
      "100    1\n",
      "Name: Region_ID, Length: 98766, dtype: int64\n"
     ]
    }
   ],
   "source": [
    "# Renombramos las columnas de los DataFrames de dimensiones\n",
    "Dim_Calendar.columns = ['Fecha', 'ID']\n",
    "Dim_Ruta.columns = ['Ruta', 'ID']\n",
    "Dim_Tipo_Transporte.columns = ['Tipo_Transporte', 'ID']\n",
    "Dim_Region.columns = ['Region', 'ID']\n",
    "Dim_Dia_Semana.columns = ['Dia_Semana', 'ID']\n",
    "\n",
    "# Creamos un diccionario de mapeo para cada Dimensión\n",
    "mapping_dicts = {\n",
    "    'Fecha': Dim_Calendar.set_index('Fecha')['ID'].to_dict(),\n",
    "    'Ruta': Dim_Ruta.set_index('Ruta')['ID'].to_dict(),\n",
    "    'Tipo_Transporte': Dim_Tipo_Transporte.set_index('Tipo_Transporte')['ID'].to_dict(),\n",
    "    'Region': Dim_Region.set_index('Region')['ID'].to_dict(),\n",
    "    'Dia_Semana': Dim_Dia_Semana.set_index('Dia_Semana')['ID'].to_dict()\n",
    "}\n",
    "\n",
    "# Reemplazamos los valores en df usando los diccionarios de mapeo\n",
    "df['Fecha_ID'] = df['Fecha'].map(mapping_dicts['Fecha'])\n",
    "df['Ruta_ID'] = df['Ruta'].map(mapping_dicts['Ruta'])\n",
    "df['Tipo_Transporte_ID'] = df['Tipo_Transporte'].map(mapping_dicts['Tipo_Transporte'])\n",
    "df['Region_ID'] = df['Region'].map(mapping_dicts['Region'])\n",
    "df['Dia_Semana_ID'] = df['Dia_Semana'].map(mapping_dicts['Dia_Semana'])\n",
    "\n",
    "print(\"DataFrame df después de mapear los valores:\")\n",
    "print(df['Region_ID'])\n"
   ]
  },
  {
   "cell_type": "code",
   "execution_count": 20,
   "metadata": {},
   "outputs": [],
   "source": [
    "#Vamos a encerrar en listas los valores para las columnas de las tablas de nuestra base de datos.\n",
    "\n",
    "fechas = df['Fecha'].tolist()\n",
    "rutas = df['Ruta'].tolist()\n",
    "numero_pasajeros = df['Numero_Pasajeros'].tolist()\n",
    "duracion_viaje_minutos = df['Duracion_Viaje_Minutos'].tolist()\n",
    "retraso_minutos = df['Retraso_Minutos'].tolist()\n",
    "tipo_transporte = df['Tipo_Transporte'].tolist()\n",
    "region = df['Region'].tolist()\n",
    "dia_semana = df['Dia_Semana'].tolist()\n",
    "idfactcalendar = df['Fecha_ID'].tolist()\n",
    "idfactruta = df['Ruta_ID'].tolist()\n",
    "idfacttipotransporte = df['Tipo_Transporte_ID'].tolist()\n",
    "idfactregion = df['Region_ID'].tolist()\n",
    "idfactDiaSemana = df['Dia_Semana_ID'].tolist()\n",
    "fechacalendar = Dim_Calendar['Fecha'].tolist()\n",
    "IDCalendar = Dim_Calendar['ID'].tolist()\n",
    "Rutadimruta = Dim_Ruta['Ruta'].tolist()\n",
    "IDRuta = Dim_Ruta['ID'].tolist()\n",
    "Tipo_transportedimtipo_transporte = Dim_Tipo_Transporte['Tipo_Transporte'].tolist()\n",
    "IDtipo_transporte = Dim_Tipo_Transporte['ID'].tolist()\n",
    "Regiondimregion = Dim_Region['Region'].tolist()\n",
    "IDRegion = Dim_Region['ID'].tolist()\n",
    "Dia_semanadimdia_semana = Dim_Dia_Semana['Dia_Semana'].tolist()\n",
    "IDDia_Semana = Dim_Dia_Semana['ID'].to_list()\n",
    "\n",
    "\n",
    "# Creamos a una base de datos SQLite\n",
    "conn = sqlite3.connect('transporte_publico.db')\n",
    "c = conn.cursor()\n",
    "\n",
    "# Creamos la tabla FACT_transporte_publico\n",
    "c.execute('''\n",
    "    CREATE TABLE IF NOT EXISTS FACT_transporte_publico (\n",
    "        Fecha TIMESTAMP,\n",
    "        Ruta TEXT,\n",
    "        Numero_Pasajeros INTEGER,\n",
    "        Duracion_Viaje_Minutos INTEGER,\n",
    "        Retraso_Minutos INTEGER,\n",
    "        Tipo_Transporte TEXT,\n",
    "        Region TEXT,\n",
    "        Dia_Semana TEXT,\n",
    "        ID_Fecha INTEGER,\n",
    "        ID_Ruta INTEGER,\n",
    "        ID_Tipo_Transporte INTEGER,\n",
    "        ID_Region INTEGER,\n",
    "        ID_Dia_Semana INTEGER\n",
    "    )\n",
    "''')\n",
    "\n",
    "# Creamos la tabla Dim_Calendar\n",
    "c.execute('''\n",
    "    CREATE TABLE IF NOT EXISTS Dim_Calendar (\n",
    "        Fecha TIMESTAMP,\n",
    "        ID INTEGER\n",
    "    )\n",
    "''')\n",
    "\n",
    "# Creamos la tabla Dim_Ruta\n",
    "c.execute('''\n",
    "    CREATE TABLE IF NOT EXISTS Dim_Ruta (\n",
    "        Ruta TEXT,\n",
    "        ID INTEGER\n",
    "    )\n",
    "''')\n",
    "\n",
    "# Creamos la tabla Dim_Tipo_Transporte\n",
    "c.execute('''\n",
    "    CREATE TABLE IF NOT EXISTS Dim_Tipo_Transporte (\n",
    "        Tipo_Transporte TEXT,\n",
    "        ID INTEGER\n",
    "    )\n",
    "''')\n",
    "\n",
    "# Creamos la tabla Dim_Region\n",
    "c.execute('''\n",
    "    CREATE TABLE IF NOT EXISTS Dim_Region (\n",
    "        Region TEXT,\n",
    "        ID INTEGER\n",
    "    )\n",
    "''')\n",
    "\n",
    "# Creamos la tabla Dim_Dia_Semana\n",
    "c.execute('''\n",
    "    CREATE TABLE IF NOT EXISTS Dim_Dia_Semana (\n",
    "        Dia_Semana TEXT,\n",
    "        ID INTEGER\n",
    "    )\n",
    "''')\n",
    "\n",
    "# Insertamos los datos en la tabla FACT_transporte_publico\n",
    "for i in range(len(fechas)):\n",
    "    c.execute('''\n",
    "        INSERT INTO FACT_transporte_publico (Fecha, Ruta, Numero_Pasajeros, Duracion_Viaje_Minutos, Retraso_Minutos, \n",
    "        Tipo_Transporte, Region, Dia_Semana, ID_Fecha, ID_Ruta, ID_Tipo_Transporte, ID_Region, ID_Dia_Semana)\n",
    "        VALUES (?, ?, ?, ?, ?, ?, ?, ?, ?, ?, ?, ?, ?)\n",
    "    ''', (fechas[i], rutas[i], numero_pasajeros[i], duracion_viaje_minutos[i], retraso_minutos[i], tipo_transporte[i], \n",
    "          region[i], dia_semana[i], idfactcalendar[i], idfactruta[i], idfacttipotransporte[i], idfactregion[i], idfactDiaSemana[i]))\n",
    "\n",
    "# Insertamos los datos en la Dim_Calendar\n",
    "for i in range(len(IDCalendar)):\n",
    "    c.execute('''\n",
    "        INSERT INTO Dim_Calendar (Fecha, ID)\n",
    "        VALUES (?, ?)\n",
    "    ''', (fechacalendar[i], IDCalendar[i]))\n",
    "\n",
    "# Insertamos los datos en la Dim_Ruta\n",
    "for i in range(len(IDRuta)):\n",
    "    c.execute('''\n",
    "        INSERT INTO Dim_Ruta (Ruta, ID)\n",
    "        VALUES (?, ?)\n",
    "    ''', (Rutadimruta[i], IDRuta[i]))\n",
    "\n",
    "# Insertamos los datos en la Dim_Tipo_Transporte\n",
    "for i in range(len(IDtipo_transporte)):\n",
    "    c.execute('''\n",
    "        INSERT INTO Dim_Tipo_Transporte (Tipo_Transporte, ID)\n",
    "        VALUES (?, ?)\n",
    "    ''', (Tipo_transportedimtipo_transporte[i], IDtipo_transporte[i]))\n",
    "\n",
    "# Insertamos los datos en la Dim_Region\n",
    "for i in range(len(IDRegion)):\n",
    "    c.execute('''\n",
    "        INSERT INTO Dim_Region (Region, ID)\n",
    "        VALUES (?, ?)\n",
    "    ''', (Regiondimregion[i], IDRegion[i]))\n",
    "\n",
    "# Insertamos los datos en la Dim_Dia_Semana\n",
    "for i in range(len(IDDia_Semana)):\n",
    "    c.execute('''\n",
    "        INSERT INTO Dim_Dia_Semana (Dia_Semana, ID)\n",
    "        VALUES (?, ?)\n",
    "    ''', (Dia_semanadimdia_semana[i], IDDia_Semana[i]))\n",
    "\n",
    "# Confirmamos los cambios y cerrar la conexión\n",
    "conn.commit()\n",
    "conn.close()"
   ]
  },
  {
   "cell_type": "code",
   "execution_count": 22,
   "metadata": {},
   "outputs": [
    {
     "name": "stdout",
     "output_type": "stream",
     "text": [
      "            Fecha                Ruta  Numero_Pasajeros  \\\n",
      "0      2023-01-01    Malaga - Sevilla                99   \n",
      "1      2023-01-01   Madrid - Zaragoza                10   \n",
      "2      2023-01-01    Sevilla - Madrid                96   \n",
      "3      2023-01-01     Madrid - Malaga                22   \n",
      "4      2023-01-01   Madrid - Zaragoza                41   \n",
      "...           ...                 ...               ...   \n",
      "98761  2023-01-01    Sevilla - Madrid                85   \n",
      "98762  2023-01-01  Barcelona - Bilbao                65   \n",
      "98763  2023-01-01    Malaga - Sevilla                65   \n",
      "98764  2023-01-01  Madrid - Barcelona                41   \n",
      "98765  2023-01-01  Madrid - Barcelona                42   \n",
      "\n",
      "       Duracion_Viaje_Minutos  Retraso_Minutos Tipo_Transporte     Region  \\\n",
      "0                         192               58            Tren  Barcelona   \n",
      "1                          94              119         Autobús     Madrid   \n",
      "2                         650                2           Metro     Malaga   \n",
      "3                         335               51         Autobús    Sevilla   \n",
      "4                         584               68           Metro  Barcelona   \n",
      "...                       ...              ...             ...        ...   \n",
      "98761                     631               30            Tren   Valencia   \n",
      "98762                     591               46         Autobús     Malaga   \n",
      "98763                     228                7         Tranvía     Malaga   \n",
      "98764                      24               27           Metro     Bilbao   \n",
      "98765                     135               46            Tren  Barcelona   \n",
      "\n",
      "      Dia_Semana  ID_Fecha  ID_Ruta  ID_Tipo_Transporte  ID_Region  \\\n",
      "0        Domingo         1        1                   1          1   \n",
      "1        Domingo         1        2                   2          2   \n",
      "2        Domingo         1        3                   3          3   \n",
      "3        Domingo         1        4                   2          4   \n",
      "4        Domingo         1        2                   3          1   \n",
      "...          ...       ...      ...                 ...        ...   \n",
      "98761    Domingo         1        3                   1          5   \n",
      "98762    Domingo         1       10                   2          3   \n",
      "98763    Domingo         1        1                   4          3   \n",
      "98764    Domingo         1        5                   3          7   \n",
      "98765    Domingo         1        5                   1          1   \n",
      "\n",
      "       ID_Dia_Semana  \n",
      "0                  1  \n",
      "1                  1  \n",
      "2                  1  \n",
      "3                  1  \n",
      "4                  1  \n",
      "...              ...  \n",
      "98761              1  \n",
      "98762              1  \n",
      "98763              1  \n",
      "98764              1  \n",
      "98765              1  \n",
      "\n",
      "[98766 rows x 13 columns]\n"
     ]
    }
   ],
   "source": [
    "# Hagamos una pequeña comprobación para ver cómo queda nuestra tabla de hechos en la base de datos SQLite\n",
    "#Listo. Ya podemos conectarnos con PowerBi a nuestra base de datos SQLite\n",
    "conn = sqlite3.connect('transporte_publico.db')\n",
    "c = conn.cursor()\n",
    "\n",
    "# Consultar los datos\n",
    "query = \"SELECT * FROM FACT_transporte_publico\"\n",
    "c.execute(query)\n",
    "\n",
    "# Obtener los resultados\n",
    "rows = c.fetchall()\n",
    "\n",
    "# Convertir los resultados a un DataFrame de pandas para mejor visualización\n",
    "df_resultado = pd.DataFrame(rows, columns=[desc[0] for desc in c.description])\n",
    "\n",
    "# Mostrar los resultados\n",
    "print(df_resultado)\n",
    "\n",
    "# Cerrar la conexión\n",
    "conn.close()\n"
   ]
  }
 ],
 "metadata": {
  "kernelspec": {
   "display_name": "Python 3",
   "language": "python",
   "name": "python3"
  },
  "language_info": {
   "codemirror_mode": {
    "name": "ipython",
    "version": 3
   },
   "file_extension": ".py",
   "mimetype": "text/x-python",
   "name": "python",
   "nbconvert_exporter": "python",
   "pygments_lexer": "ipython3",
   "version": "3.10.6"
  }
 },
 "nbformat": 4,
 "nbformat_minor": 2
}
